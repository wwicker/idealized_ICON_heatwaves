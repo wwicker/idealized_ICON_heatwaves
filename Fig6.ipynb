{
 "cells": [
  {
   "cell_type": "code",
   "execution_count": null,
   "id": "77ccec94-9674-4ca3-94c8-4e1188fdbf7f",
   "metadata": {},
   "outputs": [],
   "source": [
    "import xarray as xr\n",
    "import numpy as np\n",
    "import matplotlib.pyplot as plt\n",
    "import matplotlib.transforms as mtransforms\n",
    "import cmocean\n",
    "import numba\n",
    "import os\n",
    "\n",
    "from dask.distributed import Client\n",
    "from scipy import stats\n",
    "\n",
    "from wave_util import construct_rolling_dataset, remove_climatology, compute_spectr\n",
    "\n",
    "work = os.environ.get('WORK')+'/'\n",
    "plt.rcParams.update({'font.size': 14})"
   ]
  },
  {
   "cell_type": "code",
   "execution_count": null,
   "id": "8c96f0ac-92c7-4d9d-9c6b-6ee46d82bcc6",
   "metadata": {},
   "outputs": [],
   "source": [
    "client = Client()\n",
    "\n",
    "client"
   ]
  },
  {
   "cell_type": "code",
   "execution_count": null,
   "id": "905098f4-fab7-40cd-9a37-2e16826549cc",
   "metadata": {},
   "outputs": [],
   "source": [
    "def centroid(da,dim):\n",
    "    return (da*da[dim]).sum(('wavenumber','phase_speed')) / da.sum(('wavenumber','phase_speed'))"
   ]
  },
  {
   "cell_type": "code",
   "execution_count": null,
   "id": "1ab8e368-d3fb-49a5-903c-832c20a174ac",
   "metadata": {},
   "outputs": [],
   "source": [
    "# construct list nested list of filenames\n",
    "\n",
    "directory = work+'DATA/ERA5/eth/plev/'\n",
    "\n",
    "files = [directory + f for f in os.listdir(directory) if f.startswith('era5_an_vwind_reg2_6h')]\n",
    "\n",
    "files.sort() \n",
    "\n",
    "n_valid_years = int(len(files)/12)\n",
    "\n",
    "files = [files[i:i+12] for i in range(0,n_valid_years*12,12)]"
   ]
  },
  {
   "cell_type": "code",
   "execution_count": null,
   "id": "7b4e8453-70c0-4dc2-bc6b-60db50b8e54f",
   "metadata": {},
   "outputs": [],
   "source": [
    "selection = dict(lat=slice(-20,-80),plev=25000)\n",
    "\n",
    "rolling = construct_rolling_dataset(files,selection=selection,n_per_window=14*4,season_days=365)"
   ]
  },
  {
   "cell_type": "code",
   "execution_count": null,
   "id": "b6a7d5b6-5376-42b8-ad2c-fe58acd38ee8",
   "metadata": {},
   "outputs": [],
   "source": [
    "reduced = rolling.where(rolling['rolling.year'].isin(range(1979,2023)),drop=True)\n",
    "reduced = reduced.groupby('rolling.year').apply(lambda da: da.isel(rolling=range(0,51,2)))\n",
    "anomalies = remove_climatology(reduced)"
   ]
  },
  {
   "cell_type": "code",
   "execution_count": null,
   "id": "dfd8fd0b-81ad-41fb-93a8-5a7891d13c5c",
   "metadata": {},
   "outputs": [],
   "source": [
    "spectra = compute_spectra(anomalies['var132'].rename(dict(lat='latitude',lon='longitude')),wavenumber=slice(1,10),dc=1/3)"
   ]
  },
  {
   "cell_type": "code",
   "execution_count": null,
   "id": "b7dbfc13-4c1c-4ff4-be5f-50cdd681dfac",
   "metadata": {},
   "outputs": [],
   "source": [
    "spectra = spectra.compute()"
   ]
  },
  {
   "cell_type": "markdown",
   "id": "a2179a31-3304-429b-b700-42857ef48cc6",
   "metadata": {},
   "source": [
    "## Figure 6"
   ]
  },
  {
   "cell_type": "code",
   "execution_count": null,
   "id": "4cbc4a02-49c3-47f2-b2c1-3bc419e6f78c",
   "metadata": {},
   "outputs": [],
   "source": [
    "spectra = spectra.sel(latitude=slice(-35,-65)).mean('latitude')\n",
    "\n",
    "spectra_early = spectra.where(spectra['rolling.year'].isin(range(1979,2023)),drop=True)\n",
    "\n",
    "spectra_early = spectra.where(spectra['rolling.year'].isin(range(1979,2001)),drop=True)\n",
    "spectra_late = spectra.where(spectra['rolling.year'].isin(range(2001,2023)),drop=True)"
   ]
  },
  {
   "cell_type": "code",
   "execution_count": null,
   "id": "fd3f2307-3e03-4af3-b9dc-077f7d52cb46",
   "metadata": {},
   "outputs": [],
   "source": [
    "@numba.guvectorize(\n",
    "    \"(float64[:],float64[:],float64[:,:])\",\n",
    "    \"(n), (m) -> (m,n)\",\n",
    "    forceobj=True\n",
    ")\n",
    "def random_sample(a,nb,out):\n",
    "    '''\n",
    "        Draw len(nb) random samples from array a\n",
    "        'ziehen mit zuruecklegen'\n",
    "        \n",
    "        - nb is a dummy array to get dimension size\n",
    "    '''\n",
    "    lt = len(a)\n",
    "    variates = stats.uniform.rvs(0,lt,lt*len(nb))\n",
    "    variates = variates.astype(int).reshape(len(nb),lt)\n",
    "    out[:,:] = a[variates]\n",
    "    \n",
    "\n",
    "@numba.guvectorize(\n",
    "    \"(float64[:],float64[:],float64[:])\",\n",
    "    \"(n), (m) -> (m)\",\n",
    "    forceobj=True\n",
    ")    \n",
    "def ecdf(a,p,out):\n",
    "    '''\n",
    "        Emperical cummulative distribution function of array\n",
    "        at percentiles p\n",
    "    '''\n",
    "    sort = np.sort(a)\n",
    "    out[:] = sort[np.int64(p*len(a))]\n",
    "    \n",
    "    \n",
    "def t_statistic(x1,x2,dim):\n",
    "    '''\n",
    "        T-statistic for the difference of the mean for two samples of equal length\n",
    "    '''\n",
    "    diff = x1.mean(dim) - x2.mean(dim)\n",
    "    err = x1.var(dim) + x2.var(dim)\n",
    "    err = np.sqrt(err/len(x1[dim]))\n",
    "    return diff / err\n",
    "\n",
    "\n",
    "def parametric_bootstrap(sample1,sample2,nb=1000,confid=0.05):\n",
    "    '''\n",
    "        Test ensemble mean difference\n",
    "    '''\n",
    "    # Produce control samples that fullfill the Null hypothesis\n",
    "    c1 = sample1 - sample1.mean('rolling')\n",
    "    c2 = sample2 - sample2.mean('rolling')\n",
    "    \n",
    "    # Resample control\n",
    "    bootstrap = xr.DataArray(np.arange(nb),dims=('random'))\n",
    "    c1 = xr.apply_ufunc(random_sample,\n",
    "                         *(c1,bootstrap),\n",
    "                         input_core_dims=[['rolling'],['random']],\n",
    "                         output_core_dims=[['random','rolling']],\n",
    "                         dask='parallelized',\n",
    "                         output_dtypes=[[c1.dtype]])\n",
    "    c2 = xr.apply_ufunc(random_sample,\n",
    "                         *(c2,bootstrap),\n",
    "                         input_core_dims=[['rolling'],['random']],\n",
    "                         output_core_dims=[['random','rolling']],\n",
    "                         dask='parallized',\n",
    "                         output_dtypes=[[c1.dtype]])\n",
    "    \n",
    "    # t statistic for the resampled data\n",
    "    dist = t_statistic(c1,c2,'rolling')\n",
    "    \n",
    "    # emperical cumulative distribution function\n",
    "    p = xr.DataArray(np.linspace(0,0.999,1000),dims=('percentile'))\n",
    "    dist = xr.apply_ufunc(ecdf,\n",
    "                          *(dist,p),\n",
    "                          input_core_dims=[['random'],['percentile']],\n",
    "                          output_core_dims=[['percentile']],\n",
    "                          dask='parallelized',\n",
    "                          output_dtypes=[[dist.dtype]])\n",
    "    dist['percentile'] = p\n",
    "    \n",
    "    # check whether Null hypothesis can be rejected\n",
    "    t = t_statistic(sample1,sample2,'rolling')\n",
    "    sig = np.add(t < dist.sel(percentile=confid/2,method='nearest'), \n",
    "                 t > dist.sel(percentile=1-confid/2,method='nearest'))\n",
    "    \n",
    "    return sig"
   ]
  },
  {
   "cell_type": "code",
   "execution_count": null,
   "id": "3cf3f88c-9071-4c10-9640-e84ec1217fb6",
   "metadata": {},
   "outputs": [],
   "source": [
    "sig = parametric_bootstrap(spectra_early,spectra_late,nb=5000,confid=0.05)"
   ]
  },
  {
   "cell_type": "code",
   "execution_count": null,
   "id": "63cbedcf-9924-464c-aeec-8b3826d64772",
   "metadata": {},
   "outputs": [],
   "source": [
    "fig, axes = plt.subplots(nrows=2,ncols=1,figsize=(6,8))\n",
    "\n",
    "## mean spectrum\n",
    "\n",
    "C1 = spectra.mean('rolling').plot.pcolormesh(ax=axes[0],levels=np.linspace(0,4.5,19),extend='max',cmap=cmocean.cm.matter,add_colorbar=False)\n",
    "\n",
    "\n",
    "l = axes[0].plot(centroid(spectra.mean('rolling'),'phase_speed').values,\n",
    "                 centroid(spectra.mean('rolling'),'wavenumber').values,\n",
    "                 marker='o',markeredgecolor='k',markersize=10,markeredgewidth=2)\n",
    "l[0].set_markerfacecolor((0,0,0,0))\n",
    "\n",
    "# configure axes\n",
    "\n",
    "axes[0].set_xlim(-20,20)\n",
    "axes[0].set_xticks([-20,-10,0,10,20])\n",
    "axes[0].set_xticks([-15,-5,5,15],minor=True)\n",
    "axes[0].set_ylim(1,10)\n",
    "axes[0].set_yticks([2,4,6,8,10])\n",
    "axes[0].set_yticks([1,3,5,7,9],minor=True)\n",
    "axes[0].grid(axis='both')\n",
    "\n",
    "axes[0].set_ylabel('Zonal wavenumber')\n",
    "axes[0].set_xlabel(r'Phase speed [m s$^{-1}$]')\n",
    "axes[0].set_title('Reference',weight='bold',fontsize=14)\n",
    "\n",
    "cbar = plt.colorbar(C1,ax=axes[0],ticks=[0,1,2,3,4,5])\n",
    "cbar.set_label(r'Power spectral density [m s$^{-1}$]',fontsize=12)\n",
    "\n",
    "\n",
    "## spectral difference\n",
    "\n",
    "levels = np.concatenate((np.arange(-5,0,0.1),np.arange(0.1,5.1,0.1)))\n",
    "\n",
    "C = (spectra_late.mean('rolling')-spectra_early.mean('rolling')).plot.contour(ax=axes[1],levels=levels,cmap=cmocean.cm.rain,\n",
    "                                        linestyles=np.where(levels>0,'solid','dotted'))\n",
    "axes[1].clabel(C)\n",
    "\n",
    "sig.astype(np.double).plot.contourf(ax=axes[1],levels=[0,0.5,1],hatches=['..',''],alpha=0,add_colorbar=False)\n",
    "\n",
    "l = axes[1].plot(centroid(spectra_early.mean('rolling'),'phase_speed').values,\n",
    "                 centroid(spectra_early.mean('rolling'),'wavenumber').values,\n",
    "                 marker='+',markeredgecolor='k',markersize=10,markeredgewidth=2)\n",
    "l[0].set_markerfacecolor((0,0,0,0))\n",
    "\n",
    "axes[1].plot(centroid(spectra_late.mean('rolling'),'phase_speed').values,\n",
    "                 centroid(spectra_late.mean('rolling'),'wavenumber').values,\n",
    "                 marker='x',markeredgecolor='k',markersize=10,markeredgewidth=2)\n",
    "\n",
    "# configure axes\n",
    "\n",
    "axes[1].set_xlim(-20,20)\n",
    "axes[1].set_xticks([-20,-10,0,10,20])\n",
    "axes[1].set_xticks([-15,-5,5,15],minor=True)\n",
    "axes[1].set_ylim(1,10)\n",
    "axes[1].set_yticks([2,4,6,8,10])\n",
    "axes[1].set_yticks([1,3,5,7,9],minor=True)\n",
    "axes[1].grid(axis='both')\n",
    "\n",
    "axes[1].set_ylabel('Zonal wavenumber')\n",
    "axes[1].set_xlabel(r'Phase speed [m s$^{-1}$]')\n",
    "axes[1].set_title(r'2001-2022 $-$ 1979-2000',weight='bold',fontsize=14)\n",
    "\n",
    "\n",
    "## configure\n",
    "\n",
    "fig.subplots_adjust(0,0,1,1,0.3,0.3)\n",
    "\n",
    "box = list(axes[1].get_position().bounds)\n",
    "box[2] = axes[0].get_position().bounds[2]\n",
    "axes[1].set_position(box)\n",
    "\n",
    "trans = mtransforms.ScaledTranslation(-45/72, -20/72, fig.dpi_scale_trans)\n",
    "\n",
    "axes[0].text(-0.06,1.06,'a)',transform=axes[0].transAxes+trans,fontsize='large',va='bottom')\n",
    "axes[1].text(-0.06,1.06,'b)',transform=axes[1].transAxes+trans,fontsize='large',va='bottom')\n"
   ]
  },
  {
   "cell_type": "code",
   "execution_count": null,
   "id": "8f26a4ae-5ec9-4131-bd13-08e0ae38b304",
   "metadata": {},
   "outputs": [],
   "source": []
  },
  {
   "cell_type": "code",
   "execution_count": null,
   "id": "7115f372-0472-41ee-b42c-f4334bb4493f",
   "metadata": {},
   "outputs": [],
   "source": []
  },
  {
   "cell_type": "code",
   "execution_count": null,
   "id": "32409632-b275-428e-9574-7d108ad5f836",
   "metadata": {},
   "outputs": [],
   "source": []
  },
  {
   "cell_type": "code",
   "execution_count": null,
   "id": "b17f46bd-1663-41f9-900a-f1528bfebf0b",
   "metadata": {},
   "outputs": [],
   "source": []
  },
  {
   "cell_type": "code",
   "execution_count": null,
   "id": "87c02f69-771a-4b29-84f8-bc77815ab99c",
   "metadata": {},
   "outputs": [],
   "source": []
  },
  {
   "cell_type": "code",
   "execution_count": null,
   "id": "90d429cd-b703-49ac-bcc0-968c82dcf90d",
   "metadata": {},
   "outputs": [],
   "source": []
  },
  {
   "cell_type": "code",
   "execution_count": null,
   "id": "24a15c09-e12d-4d89-a2f1-1a785fb84765",
   "metadata": {},
   "outputs": [],
   "source": []
  },
  {
   "cell_type": "code",
   "execution_count": null,
   "id": "a0d2f4e9-bc39-4c11-a487-3119e3edde17",
   "metadata": {},
   "outputs": [],
   "source": []
  },
  {
   "cell_type": "code",
   "execution_count": null,
   "id": "950cdac0-5044-44c1-a9d4-f58a9b8e68ea",
   "metadata": {},
   "outputs": [],
   "source": []
  },
  {
   "cell_type": "code",
   "execution_count": null,
   "id": "e49af4e5-1413-4875-899d-66698e7f4f13",
   "metadata": {},
   "outputs": [],
   "source": []
  },
  {
   "cell_type": "code",
   "execution_count": null,
   "id": "7440e5c2-56f3-4788-b55c-c74a57ddaf7d",
   "metadata": {},
   "outputs": [],
   "source": []
  },
  {
   "cell_type": "code",
   "execution_count": null,
   "id": "92d3e95e-f5ac-474e-9053-ae6980e25220",
   "metadata": {},
   "outputs": [],
   "source": []
  },
  {
   "cell_type": "code",
   "execution_count": null,
   "id": "9d96c093-ecc8-426f-a681-9b69e3462618",
   "metadata": {},
   "outputs": [],
   "source": []
  },
  {
   "cell_type": "code",
   "execution_count": null,
   "id": "bba432f6-1126-42e2-bd79-9da3f025b10b",
   "metadata": {},
   "outputs": [],
   "source": []
  },
  {
   "cell_type": "code",
   "execution_count": null,
   "id": "92386d4d-1286-46db-807a-d5dd67dcc29f",
   "metadata": {},
   "outputs": [],
   "source": []
  },
  {
   "cell_type": "code",
   "execution_count": null,
   "id": "0a706ab3-a655-4ae0-97a7-02989aa30448",
   "metadata": {},
   "outputs": [],
   "source": []
  }
 ],
 "metadata": {
  "kernelspec": {
   "display_name": "Python [conda env:python-2023]",
   "language": "python",
   "name": "conda-env-python-2023-py"
  },
  "language_info": {
   "codemirror_mode": {
    "name": "ipython",
    "version": 3
   },
   "file_extension": ".py",
   "mimetype": "text/x-python",
   "name": "python",
   "nbconvert_exporter": "python",
   "pygments_lexer": "ipython3",
   "version": "3.10.8"
  }
 },
 "nbformat": 4,
 "nbformat_minor": 5
}
